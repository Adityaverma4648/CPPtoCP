{
 "cells": [
  {
   "cell_type": "code",
   "execution_count": 6,
   "metadata": {},
   "outputs": [
    {
     "name": "stdout",
     "output_type": "stream",
     "text": [
      "           Unnamed: 0                          Questions by Love Babbar:  \\\n",
      "0                 NaN  Youtube Channel: https://www.youtube.com/chann...   \n",
      "1                 NaN                                                NaN   \n",
      "2              Topic:                                          Problem:    \n",
      "3                 NaN                                                NaN   \n",
      "4               Array                                  Reverse the array   \n",
      "..                ...                                                ...   \n",
      "475  Bit Manipulation                  Find position of the only set bit   \n",
      "476  Bit Manipulation                           Copy set bits in a range   \n",
      "477  Bit Manipulation  Divide two integers without using multiplicati...   \n",
      "478  Bit Manipulation  Calculate square of a number without using *, ...   \n",
      "479  Bit Manipulation                                          Power Set   \n",
      "\n",
      "            Unnamed: 2  \n",
      "0                  NaN  \n",
      "1                  NaN  \n",
      "2    Done [yes or no]   \n",
      "3                  <->  \n",
      "4                  <->  \n",
      "..                 ...  \n",
      "475                <->  \n",
      "476                <->  \n",
      "477                <->  \n",
      "478                <->  \n",
      "479                <->  \n",
      "\n",
      "[480 rows x 3 columns]\n"
     ]
    }
   ],
   "source": [
    "import numpy as np \n",
    "import pandas as pd\n",
    "\n",
    "\n",
    "df= pd.read_excel(\"./FINAL450.xlsx\")\n",
    "print(df)"
   ]
  }
 ],
 "metadata": {
  "kernelspec": {
   "display_name": "Python 3",
   "language": "python",
   "name": "python3"
  },
  "language_info": {
   "codemirror_mode": {
    "name": "ipython",
    "version": 3
   },
   "file_extension": ".py",
   "mimetype": "text/x-python",
   "name": "python",
   "nbconvert_exporter": "python",
   "pygments_lexer": "ipython3",
   "version": "3.10.6"
  },
  "orig_nbformat": 4,
  "vscode": {
   "interpreter": {
    "hash": "26de051ba29f2982a8de78e945f0abaf191376122a1563185a90213a26c5da77"
   }
  }
 },
 "nbformat": 4,
 "nbformat_minor": 2
}
